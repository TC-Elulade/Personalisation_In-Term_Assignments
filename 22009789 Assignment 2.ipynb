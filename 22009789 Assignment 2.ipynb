{
 "cells": [
  {
   "attachments": {},
   "cell_type": "markdown",
   "id": "2bc5bdeb",
   "metadata": {},
   "source": [
    "# Personalisation and Machine Learning Assignment 2\n",
    "\n",
    "In this notebook, adapted from the Week 6.1 lab activity, I will be going over the embeddings recommendation and using it to create statistics and visualisations for the movie dataset."
   ]
  },
  {
   "cell_type": "code",
   "execution_count": 1,
   "id": "51f1b02d",
   "metadata": {},
   "outputs": [],
   "source": [
    "## IMPORT CELL ##\n",
    "import pandas as pd\n",
    "import numpy as np\n",
    "from pathlib import Path\n",
    "import matplotlib.pyplot as plt\n",
    "import torch"
   ]
  },
  {
   "attachments": {},
   "cell_type": "markdown",
   "id": "160c3f9d",
   "metadata": {},
   "source": [
    "## Load in Data into Notebook"
   ]
  },
  {
   "cell_type": "code",
   "execution_count": 2,
   "id": "1ea75104",
   "metadata": {},
   "outputs": [
    {
     "data": {
      "text/plain": [
       "100004"
      ]
     },
     "execution_count": 2,
     "metadata": {},
     "output_type": "execute_result"
    }
   ],
   "source": [
    "df = pd.read_csv(\"data/ml-latest-small/ratings.csv\")\n",
    "len(df)"
   ]
  },
  {
   "cell_type": "code",
   "execution_count": 3,
   "id": "46f0fd3b",
   "metadata": {},
   "outputs": [
    {
     "data": {
      "text/html": [
       "<div>\n",
       "<style scoped>\n",
       "    .dataframe tbody tr th:only-of-type {\n",
       "        vertical-align: middle;\n",
       "    }\n",
       "\n",
       "    .dataframe tbody tr th {\n",
       "        vertical-align: top;\n",
       "    }\n",
       "\n",
       "    .dataframe thead th {\n",
       "        text-align: right;\n",
       "    }\n",
       "</style>\n",
       "<table border=\"1\" class=\"dataframe\">\n",
       "  <thead>\n",
       "    <tr style=\"text-align: right;\">\n",
       "      <th></th>\n",
       "      <th>userId</th>\n",
       "      <th>movieId</th>\n",
       "      <th>rating</th>\n",
       "      <th>timestamp</th>\n",
       "    </tr>\n",
       "  </thead>\n",
       "  <tbody>\n",
       "    <tr>\n",
       "      <th>99904</th>\n",
       "      <td>671</td>\n",
       "      <td>590</td>\n",
       "      <td>4.0</td>\n",
       "      <td>1065149296</td>\n",
       "    </tr>\n",
       "    <tr>\n",
       "      <th>99905</th>\n",
       "      <td>671</td>\n",
       "      <td>608</td>\n",
       "      <td>4.0</td>\n",
       "      <td>1064890575</td>\n",
       "    </tr>\n",
       "    <tr>\n",
       "      <th>99906</th>\n",
       "      <td>671</td>\n",
       "      <td>745</td>\n",
       "      <td>4.0</td>\n",
       "      <td>1065149085</td>\n",
       "    </tr>\n",
       "    <tr>\n",
       "      <th>99907</th>\n",
       "      <td>671</td>\n",
       "      <td>919</td>\n",
       "      <td>4.0</td>\n",
       "      <td>1065149458</td>\n",
       "    </tr>\n",
       "    <tr>\n",
       "      <th>99908</th>\n",
       "      <td>671</td>\n",
       "      <td>1035</td>\n",
       "      <td>5.0</td>\n",
       "      <td>1065149492</td>\n",
       "    </tr>\n",
       "    <tr>\n",
       "      <th>...</th>\n",
       "      <td>...</td>\n",
       "      <td>...</td>\n",
       "      <td>...</td>\n",
       "      <td>...</td>\n",
       "    </tr>\n",
       "    <tr>\n",
       "      <th>99999</th>\n",
       "      <td>671</td>\n",
       "      <td>6268</td>\n",
       "      <td>2.5</td>\n",
       "      <td>1065579370</td>\n",
       "    </tr>\n",
       "    <tr>\n",
       "      <th>100000</th>\n",
       "      <td>671</td>\n",
       "      <td>6269</td>\n",
       "      <td>4.0</td>\n",
       "      <td>1065149201</td>\n",
       "    </tr>\n",
       "    <tr>\n",
       "      <th>100001</th>\n",
       "      <td>671</td>\n",
       "      <td>6365</td>\n",
       "      <td>4.0</td>\n",
       "      <td>1070940363</td>\n",
       "    </tr>\n",
       "    <tr>\n",
       "      <th>100002</th>\n",
       "      <td>671</td>\n",
       "      <td>6385</td>\n",
       "      <td>2.5</td>\n",
       "      <td>1070979663</td>\n",
       "    </tr>\n",
       "    <tr>\n",
       "      <th>100003</th>\n",
       "      <td>671</td>\n",
       "      <td>6565</td>\n",
       "      <td>3.5</td>\n",
       "      <td>1074784724</td>\n",
       "    </tr>\n",
       "  </tbody>\n",
       "</table>\n",
       "<p>100 rows × 4 columns</p>\n",
       "</div>"
      ],
      "text/plain": [
       "        userId  movieId  rating   timestamp\n",
       "99904      671      590     4.0  1065149296\n",
       "99905      671      608     4.0  1064890575\n",
       "99906      671      745     4.0  1065149085\n",
       "99907      671      919     4.0  1065149458\n",
       "99908      671     1035     5.0  1065149492\n",
       "...        ...      ...     ...         ...\n",
       "99999      671     6268     2.5  1065579370\n",
       "100000     671     6269     4.0  1065149201\n",
       "100001     671     6365     4.0  1070940363\n",
       "100002     671     6385     2.5  1070979663\n",
       "100003     671     6565     3.5  1074784724\n",
       "\n",
       "[100 rows x 4 columns]"
      ]
     },
     "execution_count": 3,
     "metadata": {},
     "output_type": "execute_result"
    }
   ],
   "source": [
    "df.tail(100)"
   ]
  },
  {
   "attachments": {},
   "cell_type": "markdown",
   "id": "b60edd82",
   "metadata": {},
   "source": [
    "Now, use .unique() to create the vocabulary for the dataset."
   ]
  },
  {
   "cell_type": "code",
   "execution_count": 4,
   "id": "346ec06e",
   "metadata": {},
   "outputs": [],
   "source": [
    "#Use the unique() function to get the total number of unique users and movies \n",
    "#(essentially removing duplicates)\n",
    "user_ids = df[\"userId\"].unique().tolist()   #Puts unique user IDs into a list\n",
    "movie_ids = df[\"movieId\"].unique().tolist()  #Puts unique movie IDs into a list"
   ]
  },
  {
   "cell_type": "code",
   "execution_count": 5,
   "id": "9a7eac5b",
   "metadata": {},
   "outputs": [
    {
     "name": "stdout",
     "output_type": "stream",
     "text": [
      "There are 9066 movies in this dataset and 671 users\n"
     ]
    }
   ],
   "source": [
    "print('There are', len(movie_ids), 'movies in this dataset and', len(user_ids), 'users')"
   ]
  },
  {
   "cell_type": "code",
   "execution_count": 6,
   "id": "845f990e",
   "metadata": {},
   "outputs": [],
   "source": [
    "#Make a dictionary mapping ids (keys, x) to indexes (values, i)\n",
    "user_id_to_index = {x: i for i, x in enumerate(user_ids)}\n",
    "movie_id_to_index = {x: i for i, x in enumerate(movie_ids)}"
   ]
  },
  {
   "attachments": {},
   "cell_type": "markdown",
   "id": "b1197d17",
   "metadata": {},
   "source": [
    "Then the user and movie indexes are added to our original dataframe."
   ]
  },
  {
   "cell_type": "code",
   "execution_count": 7,
   "id": "fbc6c227",
   "metadata": {},
   "outputs": [],
   "source": [
    "#Make a new column in the dataframe which contains the appropriate index for each user and movie\n",
    "df[\"user_index\"] = [user_id_to_index[i] for i in df[\"userId\"]]\n",
    "df[\"movie_index\"] = [movie_id_to_index[i] for i in df[\"movieId\"]]"
   ]
  },
  {
   "cell_type": "code",
   "execution_count": 8,
   "id": "af6bae56",
   "metadata": {},
   "outputs": [
    {
     "data": {
      "text/html": [
       "<div>\n",
       "<style scoped>\n",
       "    .dataframe tbody tr th:only-of-type {\n",
       "        vertical-align: middle;\n",
       "    }\n",
       "\n",
       "    .dataframe tbody tr th {\n",
       "        vertical-align: top;\n",
       "    }\n",
       "\n",
       "    .dataframe thead th {\n",
       "        text-align: right;\n",
       "    }\n",
       "</style>\n",
       "<table border=\"1\" class=\"dataframe\">\n",
       "  <thead>\n",
       "    <tr style=\"text-align: right;\">\n",
       "      <th></th>\n",
       "      <th>userId</th>\n",
       "      <th>movieId</th>\n",
       "      <th>rating</th>\n",
       "      <th>timestamp</th>\n",
       "      <th>user_index</th>\n",
       "      <th>movie_index</th>\n",
       "    </tr>\n",
       "  </thead>\n",
       "  <tbody>\n",
       "    <tr>\n",
       "      <th>0</th>\n",
       "      <td>1</td>\n",
       "      <td>31</td>\n",
       "      <td>2.5</td>\n",
       "      <td>1260759144</td>\n",
       "      <td>0</td>\n",
       "      <td>0</td>\n",
       "    </tr>\n",
       "    <tr>\n",
       "      <th>1</th>\n",
       "      <td>1</td>\n",
       "      <td>1029</td>\n",
       "      <td>3.0</td>\n",
       "      <td>1260759179</td>\n",
       "      <td>0</td>\n",
       "      <td>1</td>\n",
       "    </tr>\n",
       "    <tr>\n",
       "      <th>2</th>\n",
       "      <td>1</td>\n",
       "      <td>1061</td>\n",
       "      <td>3.0</td>\n",
       "      <td>1260759182</td>\n",
       "      <td>0</td>\n",
       "      <td>2</td>\n",
       "    </tr>\n",
       "    <tr>\n",
       "      <th>3</th>\n",
       "      <td>1</td>\n",
       "      <td>1129</td>\n",
       "      <td>2.0</td>\n",
       "      <td>1260759185</td>\n",
       "      <td>0</td>\n",
       "      <td>3</td>\n",
       "    </tr>\n",
       "    <tr>\n",
       "      <th>4</th>\n",
       "      <td>1</td>\n",
       "      <td>1172</td>\n",
       "      <td>4.0</td>\n",
       "      <td>1260759205</td>\n",
       "      <td>0</td>\n",
       "      <td>4</td>\n",
       "    </tr>\n",
       "  </tbody>\n",
       "</table>\n",
       "</div>"
      ],
      "text/plain": [
       "   userId  movieId  rating   timestamp  user_index  movie_index\n",
       "0       1       31     2.5  1260759144           0            0\n",
       "1       1     1029     3.0  1260759179           0            1\n",
       "2       1     1061     3.0  1260759182           0            2\n",
       "3       1     1129     2.0  1260759185           0            3\n",
       "4       1     1172     4.0  1260759205           0            4"
      ]
     },
     "execution_count": 8,
     "metadata": {},
     "output_type": "execute_result"
    }
   ],
   "source": [
    "df.head(5)"
   ]
  },
  {
   "cell_type": "code",
   "execution_count": 9,
   "id": "ff048459",
   "metadata": {},
   "outputs": [
    {
     "data": {
      "text/plain": [
       "count    100004.000000\n",
       "mean          0.676357\n",
       "std           0.235125\n",
       "min           0.000000\n",
       "25%           0.555556\n",
       "50%           0.777778\n",
       "75%           0.777778\n",
       "max           1.000000\n",
       "Name: rating, dtype: float64"
      ]
     },
     "execution_count": 9,
     "metadata": {},
     "output_type": "execute_result"
    }
   ],
   "source": [
    "#Scale ratings data to be in the range [0,1]\n",
    "#This makes things easier\n",
    "from sklearn.preprocessing import MinMaxScaler\n",
    "##Pick the range\\\n",
    "df[\"rating\"] = MinMaxScaler().fit_transform(df[\"rating\"].values.reshape(-1, 1))\n",
    "df[\"rating\"].describe()"
   ]
  },
  {
   "cell_type": "code",
   "execution_count": 10,
   "id": "3909aa06",
   "metadata": {},
   "outputs": [
    {
     "data": {
      "text/html": [
       "<div>\n",
       "<style scoped>\n",
       "    .dataframe tbody tr th:only-of-type {\n",
       "        vertical-align: middle;\n",
       "    }\n",
       "\n",
       "    .dataframe tbody tr th {\n",
       "        vertical-align: top;\n",
       "    }\n",
       "\n",
       "    .dataframe thead th {\n",
       "        text-align: right;\n",
       "    }\n",
       "</style>\n",
       "<table border=\"1\" class=\"dataframe\">\n",
       "  <thead>\n",
       "    <tr style=\"text-align: right;\">\n",
       "      <th></th>\n",
       "      <th>userId</th>\n",
       "      <th>movieId</th>\n",
       "      <th>rating</th>\n",
       "      <th>timestamp</th>\n",
       "      <th>user_index</th>\n",
       "      <th>movie_index</th>\n",
       "    </tr>\n",
       "  </thead>\n",
       "  <tbody>\n",
       "    <tr>\n",
       "      <th>0</th>\n",
       "      <td>1</td>\n",
       "      <td>31</td>\n",
       "      <td>0.444444</td>\n",
       "      <td>1260759144</td>\n",
       "      <td>0</td>\n",
       "      <td>0</td>\n",
       "    </tr>\n",
       "    <tr>\n",
       "      <th>1</th>\n",
       "      <td>1</td>\n",
       "      <td>1029</td>\n",
       "      <td>0.555556</td>\n",
       "      <td>1260759179</td>\n",
       "      <td>0</td>\n",
       "      <td>1</td>\n",
       "    </tr>\n",
       "    <tr>\n",
       "      <th>2</th>\n",
       "      <td>1</td>\n",
       "      <td>1061</td>\n",
       "      <td>0.555556</td>\n",
       "      <td>1260759182</td>\n",
       "      <td>0</td>\n",
       "      <td>2</td>\n",
       "    </tr>\n",
       "    <tr>\n",
       "      <th>3</th>\n",
       "      <td>1</td>\n",
       "      <td>1129</td>\n",
       "      <td>0.333333</td>\n",
       "      <td>1260759185</td>\n",
       "      <td>0</td>\n",
       "      <td>3</td>\n",
       "    </tr>\n",
       "    <tr>\n",
       "      <th>4</th>\n",
       "      <td>1</td>\n",
       "      <td>1172</td>\n",
       "      <td>0.777778</td>\n",
       "      <td>1260759205</td>\n",
       "      <td>0</td>\n",
       "      <td>4</td>\n",
       "    </tr>\n",
       "  </tbody>\n",
       "</table>\n",
       "</div>"
      ],
      "text/plain": [
       "   userId  movieId    rating   timestamp  user_index  movie_index\n",
       "0       1       31  0.444444  1260759144           0            0\n",
       "1       1     1029  0.555556  1260759179           0            1\n",
       "2       1     1061  0.555556  1260759182           0            2\n",
       "3       1     1129  0.333333  1260759185           0            3\n",
       "4       1     1172  0.777778  1260759205           0            4"
      ]
     },
     "execution_count": 10,
     "metadata": {},
     "output_type": "execute_result"
    }
   ],
   "source": [
    "#Check the dataframe\n",
    "df.head(5)"
   ]
  },
  {
   "attachments": {},
   "cell_type": "markdown",
   "id": "246123e5",
   "metadata": {},
   "source": [
    "## Prepare Data and Model for Training\n",
    "\n",
    "As this is a predictive model, first we need to split the data into a training set and a test set (90:10 split)."
   ]
  },
  {
   "cell_type": "code",
   "execution_count": 12,
   "id": "2da60d1e",
   "metadata": {},
   "outputs": [],
   "source": [
    "from sklearn.model_selection import train_test_split\n",
    "#Inputs\n",
    "x = df[[\"user_index\", \"movie_index\"]]\n",
    "#Outputs\n",
    "y = df[\"rating\"]\n",
    "#Get train-test split\n",
    "x_train, x_test, y_train, y_test = train_test_split(x, y, test_size=0.1, random_state=42)"
   ]
  },
  {
   "attachments": {},
   "cell_type": "markdown",
   "id": "42427d4c",
   "metadata": {},
   "source": [
    "Now we can build our model using PyTorch."
   ]
  },
  {
   "cell_type": "code",
   "execution_count": 13,
   "id": "d532c49f",
   "metadata": {},
   "outputs": [],
   "source": [
    "## DEFINE THE MODEL ##\n",
    "\n",
    "class RecommenderNet(torch.nn.Module):\n",
    "    def __init__(self, num_users, num_movies, embedding_size=20):\n",
    "        super().__init__()\n",
    "        self.user_embedding = torch.nn.Embedding(num_users, embedding_size)\n",
    "        self.user_bias = torch.nn.Embedding(num_users, 1)\n",
    "        self.movie_embedding = torch.nn.Embedding(num_movies, embedding_size)\n",
    "        self.movie_bias = torch.nn.Embedding(num_movies, 1)\n",
    "        self.sig = torch.nn.Sigmoid()\n",
    "\n",
    "    def forward(self, inputs):\n",
    "        #Split out indexes \n",
    "        user_indexes = inputs[:, 0]\n",
    "        movie_indexes = inputs[:, 1]\n",
    "        #Forward pass on embedding layer\n",
    "        user_vector = self.user_embedding(user_indexes)\n",
    "        user_bias = self.user_bias(user_indexes).flatten()\n",
    "        movie_vector = self.movie_embedding(movie_indexes)\n",
    "        movie_bias = self.movie_bias(movie_indexes).flatten()\n",
    "        #Dot product\n",
    "        dot = (user_vector * movie_vector).sum(1)\n",
    "        with_bias = dot + user_bias + movie_bias\n",
    "        #Activation function\n",
    "        output = self.sig(with_bias)\n",
    "        return output"
   ]
  },
  {
   "cell_type": "code",
   "execution_count": 15,
   "id": "1032b4ac",
   "metadata": {},
   "outputs": [],
   "source": [
    "## SET UP THE MODEL ##\n",
    "\n",
    "#Pick Embedding size\n",
    "EMBEDDING_SIZE = 16\n",
    "#Make new object (calls __init__())\n",
    "num_users = len(user_ids)\n",
    "num_movies = len(movie_ids)\n",
    "model = RecommenderNet(num_users, num_movies, EMBEDDING_SIZE)"
   ]
  },
  {
   "attachments": {},
   "cell_type": "markdown",
   "id": "60473090",
   "metadata": {},
   "source": [
    "## Training the Model\n",
    "\n",
    "Now that the model has been set up and our dataset split, we can now run the model to get the predicted ratings."
   ]
  },
  {
   "cell_type": "code",
   "execution_count": 16,
   "id": "71678d3e",
   "metadata": {},
   "outputs": [],
   "source": [
    "from torch.utils.data import DataLoader\n",
    "from torch.utils.data import Dataset\n",
    "\n",
    "#Make a subclass to hold our dataset (movie - user pairs (input) and a rating (label))\n",
    "class MoviesDataset(Dataset):\n",
    "    def __init__(self, X,y):\n",
    "        self.X = torch.IntTensor(X)\n",
    "        self.y = torch.FloatTensor(y)\n",
    "    def __len__(self):\n",
    "        return len(self.X)\n",
    "    def __getitem__(self, idx):\n",
    "        return self.X[idx], self.y[idx]"
   ]
  },
  {
   "cell_type": "code",
   "execution_count": 59,
   "id": "109b92cf",
   "metadata": {},
   "outputs": [],
   "source": [
    "#Use our train - validation split to make DataLoader objects\n",
    "train_dl = DataLoader(MoviesDataset(x_train.values,y_train.values), batch_size=64, shuffle=True)\n",
    "validation_dl = DataLoader(MoviesDataset(x_test.values,y_test.values), batch_size=64, shuffle=True)"
   ]
  },
  {
   "cell_type": "code",
   "execution_count": 60,
   "id": "665f5ce2",
   "metadata": {},
   "outputs": [],
   "source": [
    "epochs = 20\n",
    "#Use Mean Squared Error as a loss function\n",
    "loss_fn = torch.nn.MSELoss() \n",
    "#Use the Adam algorithm to update the weights based on the loss\n",
    "optimizer = torch.optim.Adam(model.parameters(),lr=0.01)"
   ]
  },
  {
   "cell_type": "code",
   "execution_count": 61,
   "id": "4bc24c8d",
   "metadata": {
    "scrolled": true
   },
   "outputs": [
    {
     "name": "stdout",
     "output_type": "stream",
     "text": [
      "Loss 0.17260390520095825 Validation Loss 0.11256545037031174\n",
      "Loss 0.07693872600793839 Validation Loss 0.08177712559700012\n",
      "Loss 0.04851844906806946 Validation Loss 0.06980355829000473\n",
      "Loss 0.036795999854803085 Validation Loss 0.06476811319589615\n",
      "Loss 0.031050587072968483 Validation Loss 0.06309590488672256\n",
      "Loss 0.02736131101846695 Validation Loss 0.0624375194311142\n",
      "Loss 0.025163963437080383 Validation Loss 0.06107046827673912\n",
      "Loss 0.023636868223547935 Validation Loss 0.06305041164159775\n",
      "Loss 0.022482216358184814 Validation Loss 0.060953181236982346\n",
      "Loss 0.021611124277114868 Validation Loss 0.06212480366230011\n",
      "Loss 0.020930150523781776 Validation Loss 0.06223175674676895\n",
      "Loss 0.020223604515194893 Validation Loss 0.062288012355566025\n",
      "Loss 0.01988723687827587 Validation Loss 0.06208949536085129\n",
      "Loss 0.01964854635298252 Validation Loss 0.062324099242687225\n",
      "Loss 0.01930326782166958 Validation Loss 0.06325739622116089\n",
      "Loss 0.019099978730082512 Validation Loss 0.06365828216075897\n",
      "Loss 0.018904948607087135 Validation Loss 0.06283580511808395\n",
      "Loss 0.018633728846907616 Validation Loss 0.06321355700492859\n",
      "Loss 0.0184553861618042 Validation Loss 0.062567338347435\n",
      "Loss 0.01856565847992897 Validation Loss 0.06339197605848312\n"
     ]
    }
   ],
   "source": [
    "#Use a for loop to repeat for the desired number of epochs \n",
    "for i in range(epochs):\n",
    "    \n",
    "    model.train(True)\n",
    "    \n",
    "    #Use a for loop for each batch (provided by the Dataloader)\n",
    "    running_loss = 0.0\n",
    "    for (index, batch) in enumerate(train_dl):\n",
    "        \n",
    "        #Get batch \n",
    "        inputs, labels = batch\n",
    "        model.zero_grad()\n",
    "        \n",
    "        #Forward pass\n",
    "        prediction = model(inputs)\n",
    "        \n",
    "        #Get Loss\n",
    "        loss = loss_fn(prediction, labels)\n",
    "        \n",
    "        #Update weights (back prop)\n",
    "        loss.backward()\n",
    "        optimizer.step()\n",
    "        running_loss += loss\n",
    "    \n",
    "    avg_loss = running_loss / (index + 1)\n",
    "\n",
    "    model.train(False)\n",
    "\n",
    "    #Now try with the validation set (no need to update weights, just get loss)\n",
    "    running_vloss = 0.0\n",
    "    for index, vdata in enumerate(validation_dl):\n",
    "        vinputs, vlabels = vdata\n",
    "        voutputs = model(vinputs)\n",
    "        vloss = loss_fn(voutputs, vlabels)\n",
    "        running_vloss += vloss\n",
    "\n",
    "    avg_vloss = running_vloss / (index + 1)\n",
    "    print('Loss {} Validation Loss {}'.format(avg_loss, avg_vloss))"
   ]
  },
  {
   "attachments": {},
   "cell_type": "markdown",
   "id": "aacd4bbd",
   "metadata": {},
   "source": [
    "Just in case, I will save the weights of the model in case I need it later in the notebook."
   ]
  },
  {
   "cell_type": "code",
   "execution_count": 62,
   "id": "9c505531",
   "metadata": {},
   "outputs": [],
   "source": [
    "torch.save(model.state_dict(), 'my_rating_model_weights.pth')"
   ]
  },
  {
   "cell_type": "code",
   "execution_count": 17,
   "id": "c6f0b338",
   "metadata": {},
   "outputs": [
    {
     "data": {
      "text/plain": [
       "RecommenderNet(\n",
       "  (user_embedding): Embedding(671, 16)\n",
       "  (user_bias): Embedding(671, 1)\n",
       "  (movie_embedding): Embedding(9066, 16)\n",
       "  (movie_bias): Embedding(9066, 1)\n",
       "  (sig): Sigmoid()\n",
       ")"
      ]
     },
     "execution_count": 17,
     "metadata": {},
     "output_type": "execute_result"
    }
   ],
   "source": [
    "model = RecommenderNet(num_users, num_movies, EMBEDDING_SIZE)\n",
    "model.load_state_dict(torch.load('my_rating_model_weights.pth'))\n",
    "model.eval()"
   ]
  },
  {
   "attachments": {},
   "cell_type": "markdown",
   "id": "e3c9b3b2",
   "metadata": {},
   "source": [
    "## TASK 1: Create Predicted Statisitcs\n",
    "\n",
    "With our model trained, we can now create predicted ratings. This will allow us to create our **DIVERSITY** and **NOVELTY** statistics. We would not really need the movie names for this, we just need index to check the similarities."
   ]
  },
  {
   "cell_type": "code",
   "execution_count": 18,
   "id": "9be21f83",
   "metadata": {},
   "outputs": [
    {
     "data": {
      "text/plain": [
       "Index(['movieId', 'title', 'genres'], dtype='object')"
      ]
     },
     "execution_count": 18,
     "metadata": {},
     "output_type": "execute_result"
    }
   ],
   "source": [
    "#Get the movie data so we can map back to names\n",
    "movie_data = pd.read_csv(\"data/ml-latest-small/movies.csv\")\n",
    "movie_data.columns"
   ]
  },
  {
   "cell_type": "code",
   "execution_count": 19,
   "id": "c9d76201",
   "metadata": {},
   "outputs": [],
   "source": [
    "def get_top_n(user = 0, n = 10): \n",
    "    #Get Movie Names\n",
    "    top_n_indexes = get_top_n_indexes(user, n)\n",
    "    top_n = get_names_for_indexes(top_n_indexes)\n",
    "    return top_n\n",
    "\n",
    "def get_names_for_indexes(indexes):\n",
    "    return [movie_data[movie_data[\"movieId\"]==movie_ids[i]][\"title\"].item() for i in indexes]\n",
    "\n",
    "def get_top_n_indexes(user = 0, n = 10):\n",
    "    #For one user, make a pair with every movie index\n",
    "    x = torch.IntTensor([[user, i] for i in np.arange(num_movies)])\n",
    "    #Predict \n",
    "    predicted_ratings = model(x)\n",
    "    #Get Top-N indexes\n",
    "    top_n_indexes = predicted_ratings.argsort()[-n:]\n",
    "    return top_n_indexes\n"
   ]
  },
  {
   "attachments": {},
   "cell_type": "markdown",
   "id": "2f6d1e41",
   "metadata": {},
   "source": [
    "### DIVERSITY STATISTIC ###\n",
    "#### Test Code on 1 User ####\n",
    "\n",
    "Before we can find the diversity of the entire dataset, it would be best to test it on one user first, then extend it to two users."
   ]
  },
  {
   "cell_type": "code",
   "execution_count": 20,
   "id": "fa53b0fb",
   "metadata": {},
   "outputs": [
    {
     "name": "stdout",
     "output_type": "stream",
     "text": [
      "['Green for Danger (1946)', 'College (1927)', 'Sammy and Rosie Get Laid (1987)', \"Darby O'Gill and the Little People (1959)\", 'Willie & Phil (1980)', 'Soul Man (1986)', 'Vampyros Lesbos (Vampiras, Las) (1971)', 'Play House, The (1921)', 'Cops (1922)', 'Land of Silence and Darkness (Land des Schweigens und der Dunkelheit) (1971)']\n",
      "tensor([8550, 6182, 7937, 4410, 8240, 5627, 5734, 7454, 7456, 7432])\n"
     ]
    }
   ],
   "source": [
    "#Test_user_1 = 36\n",
    "\n",
    "#Random users top 10\n",
    "print(get_top_n(36)) ## top 10 movies\n",
    "\n",
    "print(get_top_n_indexes(36))  ##top 10 movie indexes"
   ]
  },
  {
   "cell_type": "code",
   "execution_count": 21,
   "id": "48a7e3ef",
   "metadata": {},
   "outputs": [],
   "source": [
    "from sklearn.decomposition import PCA\n",
    "from sklearn.metrics.pairwise import cosine_similarity as cosine\n",
    "from sklearn.preprocessing import StandardScaler"
   ]
  },
  {
   "cell_type": "code",
   "execution_count": 22,
   "id": "84f7032f",
   "metadata": {},
   "outputs": [
    {
     "data": {
      "text/plain": [
       "tensor([8550, 6182, 7937, 4410, 8240, 5627, 5734, 7454, 7456, 7432])"
      ]
     },
     "execution_count": 22,
     "metadata": {},
     "output_type": "execute_result"
    }
   ],
   "source": [
    "test_arr_1 = get_top_n(36)\n",
    "test_arr_2 = get_top_n_indexes(36)\n",
    "test_arr_2"
   ]
  },
  {
   "cell_type": "code",
   "execution_count": 23,
   "id": "7846b0a8",
   "metadata": {},
   "outputs": [
    {
     "data": {
      "text/plain": [
       "array([[ 1., -1.,  1., -1.,  1., -1., -1.,  1.,  1.,  1.],\n",
       "       [-1.,  1., -1.,  1., -1.,  1.,  1., -1., -1., -1.],\n",
       "       [ 1., -1.,  1., -1.,  1., -1., -1.,  1.,  1.,  1.],\n",
       "       [-1.,  1., -1.,  1., -1.,  1.,  1., -1., -1., -1.],\n",
       "       [ 1., -1.,  1., -1.,  1., -1., -1.,  1.,  1.,  1.],\n",
       "       [-1.,  1., -1.,  1., -1.,  1.,  1., -1., -1., -1.],\n",
       "       [-1.,  1., -1.,  1., -1.,  1.,  1., -1., -1., -1.],\n",
       "       [ 1., -1.,  1., -1.,  1., -1., -1.,  1.,  1.,  1.],\n",
       "       [ 1., -1.,  1., -1.,  1., -1., -1.,  1.,  1.,  1.],\n",
       "       [ 1., -1.,  1., -1.,  1., -1., -1.,  1.,  1.,  1.]])"
      ]
     },
     "execution_count": 23,
     "metadata": {},
     "output_type": "execute_result"
    }
   ],
   "source": [
    "# Calculate the similarity matirx of the test user\n",
    "#Standardise\n",
    "scaled_films = StandardScaler().fit_transform(test_arr_2.reshape(-1, 1))\n",
    "#Get cosine similarities\n",
    "similarities = cosine(scaled_films)\n",
    "similarities"
   ]
  },
  {
   "cell_type": "code",
   "execution_count": 24,
   "id": "7579afb2",
   "metadata": {},
   "outputs": [],
   "source": [
    "#Cosine distance = 1 - Cosine similarity\n",
    "#If two movies are similar (i.e cosine simiarity is 1), \n",
    "#then there would be no distance between them (i.e. cosine difference is 0)\n",
    "#Therefore, by subtracting the similarity by 1, we can find how far the movies are from one another\n",
    "distance = 1 - similarities"
   ]
  },
  {
   "cell_type": "code",
   "execution_count": 25,
   "id": "ae180967",
   "metadata": {},
   "outputs": [
    {
     "data": {
      "text/plain": [
       "array([[0., 2., 0., 2., 0., 2., 2., 0., 0., 0.],\n",
       "       [2., 0., 2., 0., 2., 0., 0., 2., 2., 2.],\n",
       "       [0., 2., 0., 2., 0., 2., 2., 0., 0., 0.],\n",
       "       [2., 0., 2., 0., 2., 0., 0., 2., 2., 2.],\n",
       "       [0., 2., 0., 2., 0., 2., 2., 0., 0., 0.],\n",
       "       [2., 0., 2., 0., 2., 0., 0., 2., 2., 2.],\n",
       "       [2., 0., 2., 0., 2., 0., 0., 2., 2., 2.],\n",
       "       [0., 2., 0., 2., 0., 2., 2., 0., 0., 0.],\n",
       "       [0., 2., 0., 2., 0., 2., 2., 0., 0., 0.],\n",
       "       [0., 2., 0., 2., 0., 2., 2., 0., 0., 0.]])"
      ]
     },
     "execution_count": 25,
     "metadata": {},
     "output_type": "execute_result"
    }
   ],
   "source": [
    "distance"
   ]
  },
  {
   "cell_type": "code",
   "execution_count": 26,
   "id": "1edaff3a",
   "metadata": {},
   "outputs": [],
   "source": [
    "#Create a function that will find the mean of the cosine difference matrix\n",
    "#Code adapted from https://www.geeksforgeeks.org/mean-median-matrix/\n",
    "N = 10\n",
    "def matrix_mean(a):\n",
    "    summ = 0\n",
    "    for i in range(N):\n",
    "        for j in range(N):\n",
    "            summ += a[i][j]\n",
    "    return summ/(N*N)"
   ]
  },
  {
   "cell_type": "code",
   "execution_count": 27,
   "id": "430110c6",
   "metadata": {},
   "outputs": [
    {
     "data": {
      "text/plain": [
       "0.96"
      ]
     },
     "execution_count": 27,
     "metadata": {},
     "output_type": "execute_result"
    }
   ],
   "source": [
    "#Mean difference of test user\n",
    "test_result = matrix_mean(distance)\n",
    "test_result"
   ]
  },
  {
   "attachments": {},
   "cell_type": "markdown",
   "id": "c5834392",
   "metadata": {},
   "source": [
    "#### Test Code on 2 users ####"
   ]
  },
  {
   "cell_type": "code",
   "execution_count": 28,
   "id": "f1a385af",
   "metadata": {},
   "outputs": [],
   "source": [
    "#Test users will be users 36 and 50\n",
    "#Aim is to get a figure that measures the diversity of recommendations between both users\n",
    "\n",
    "Test_Users = [36,50]\n",
    "\n",
    "#Create empty list to put each test users mean difference\n",
    "mean_diffs=[]\n",
    "\n",
    "for item in Test_Users:\n",
    "    topn_indexes = get_top_n_indexes(item)\n",
    "    #Standardise\n",
    "    scaled_films = StandardScaler().fit_transform(topn_indexes.reshape(-1, 1))\n",
    "    #Get cosine similarity, then subtract from 1 to get the difference\n",
    "    similarities = cosine(scaled_films)\n",
    "    distance = 1 - similarities\n",
    "    #call matrix_mean to find mean difference of top 10 and append to mean_diff array\n",
    "    mean_diffs.append(matrix_mean(distance))\n"
   ]
  },
  {
   "cell_type": "code",
   "execution_count": 29,
   "id": "c6e3f45c",
   "metadata": {},
   "outputs": [
    {
     "name": "stdout",
     "output_type": "stream",
     "text": [
      "[0.96, 0.84] are the mean differences of the test useres top 10s\n",
      "0.9 is the diverity statistic of the test users\n"
     ]
    }
   ],
   "source": [
    "print(mean_diffs, 'are the mean differences of the test useres top 10s')\n",
    "from statistics import mean\n",
    "print(round(mean(mean_diffs),3), 'is the diverity statistic of the test users')"
   ]
  },
  {
   "attachments": {},
   "cell_type": "markdown",
   "id": "aaf8f525",
   "metadata": {},
   "source": [
    "#### Use Code on entire dataset ####\n",
    "\n",
    "As the code written can work relatively well with two users, we can now find the diversity statistic of the entire dataset."
   ]
  },
  {
   "cell_type": "code",
   "execution_count": 30,
   "id": "47690748",
   "metadata": {},
   "outputs": [
    {
     "name": "stdout",
     "output_type": "stream",
     "text": [
      "The diversity statistic of the whole dataset is 0.928\n"
     ]
    }
   ],
   "source": [
    "#Create empty list to put each test users mean difference\n",
    "mean_diffs_fulldf=[]\n",
    "\n",
    "for i in range(num_users):\n",
    "    topn_indexes = get_top_n_indexes(i)\n",
    "    #Standardise\n",
    "    scaled_films = StandardScaler().fit_transform(topn_indexes.reshape(-1, 1))\n",
    "    #Get cosine similarity, then subtract from 1 to get the difference\n",
    "    similarities = cosine(scaled_films)\n",
    "    distance = 1 - similarities\n",
    "    #call matrix_mean to find mean difference of top 10 and append to mean_diff array\n",
    "    mean_diffs_fulldf.append(matrix_mean(distance))\n",
    "\n",
    "diversity = round(mean(mean_diffs_fulldf),3)\n",
    "\n",
    "print('The diversity statistic of the whole dataset is', diversity)"
   ]
  },
  {
   "attachments": {},
   "cell_type": "markdown",
   "id": "f38e1756",
   "metadata": {},
   "source": [
    "From the result, the mean diversity between each film in every users Top 10 is very high, so we can conclude that users, on average, users tend not to get the same sort of movies in their recommendations."
   ]
  },
  {
   "attachments": {},
   "cell_type": "markdown",
   "id": "60a53e05",
   "metadata": {},
   "source": [
    "### NOVELTY STATISTIC ###\n",
    "\n",
    "Now, we will need to find the mean popularity of the films in every users recommendations. To do that, we will need the actual ratings data of the movies."
   ]
  },
  {
   "cell_type": "code",
   "execution_count": 31,
   "id": "8ac5e4d4",
   "metadata": {},
   "outputs": [],
   "source": [
    "#Load data into notebook for non-standardised ratings\n",
    "ratings_df = pd.read_csv(\"data/ml-latest-small/ratings.csv\")"
   ]
  },
  {
   "cell_type": "code",
   "execution_count": 32,
   "id": "e18f3856",
   "metadata": {},
   "outputs": [
    {
     "name": "stdout",
     "output_type": "stream",
     "text": [
      "Index(['userId', 'movieId', 'rating', 'timestamp'], dtype='object')\n"
     ]
    },
    {
     "data": {
      "text/html": [
       "<div>\n",
       "<style scoped>\n",
       "    .dataframe tbody tr th:only-of-type {\n",
       "        vertical-align: middle;\n",
       "    }\n",
       "\n",
       "    .dataframe tbody tr th {\n",
       "        vertical-align: top;\n",
       "    }\n",
       "\n",
       "    .dataframe thead th {\n",
       "        text-align: right;\n",
       "    }\n",
       "</style>\n",
       "<table border=\"1\" class=\"dataframe\">\n",
       "  <thead>\n",
       "    <tr style=\"text-align: right;\">\n",
       "      <th></th>\n",
       "      <th>userId</th>\n",
       "      <th>movieId</th>\n",
       "      <th>rating</th>\n",
       "      <th>timestamp</th>\n",
       "    </tr>\n",
       "  </thead>\n",
       "  <tbody>\n",
       "    <tr>\n",
       "      <th>0</th>\n",
       "      <td>1</td>\n",
       "      <td>31</td>\n",
       "      <td>2.5</td>\n",
       "      <td>1260759144</td>\n",
       "    </tr>\n",
       "    <tr>\n",
       "      <th>1</th>\n",
       "      <td>1</td>\n",
       "      <td>1029</td>\n",
       "      <td>3.0</td>\n",
       "      <td>1260759179</td>\n",
       "    </tr>\n",
       "    <tr>\n",
       "      <th>2</th>\n",
       "      <td>1</td>\n",
       "      <td>1061</td>\n",
       "      <td>3.0</td>\n",
       "      <td>1260759182</td>\n",
       "    </tr>\n",
       "    <tr>\n",
       "      <th>3</th>\n",
       "      <td>1</td>\n",
       "      <td>1129</td>\n",
       "      <td>2.0</td>\n",
       "      <td>1260759185</td>\n",
       "    </tr>\n",
       "    <tr>\n",
       "      <th>4</th>\n",
       "      <td>1</td>\n",
       "      <td>1172</td>\n",
       "      <td>4.0</td>\n",
       "      <td>1260759205</td>\n",
       "    </tr>\n",
       "  </tbody>\n",
       "</table>\n",
       "</div>"
      ],
      "text/plain": [
       "   userId  movieId  rating   timestamp\n",
       "0       1       31     2.5  1260759144\n",
       "1       1     1029     3.0  1260759179\n",
       "2       1     1061     3.0  1260759182\n",
       "3       1     1129     2.0  1260759185\n",
       "4       1     1172     4.0  1260759205"
      ]
     },
     "execution_count": 32,
     "metadata": {},
     "output_type": "execute_result"
    }
   ],
   "source": [
    "print(ratings_df.columns)\n",
    "ratings_df.head(5)"
   ]
  },
  {
   "cell_type": "code",
   "execution_count": 34,
   "id": "a4237b9f",
   "metadata": {},
   "outputs": [
    {
     "data": {
      "text/plain": [
       "['Curiosity of Chance, The (2006)',\n",
       " 'Nights of Cabiria (Notti di Cabiria, Le) (1957)',\n",
       " \"Mummy's Ghost, The (1944)\",\n",
       " 'Something Wild (1986)',\n",
       " 'Diabolique (Les diaboliques) (1955)',\n",
       " 'Cops (1922)',\n",
       " 'People Will Talk (1951)',\n",
       " 'Ice Princess (2005)',\n",
       " 'Secretariat (2010)',\n",
       " 'Making a Murderer (2015)']"
      ]
     },
     "execution_count": 34,
     "metadata": {},
     "output_type": "execute_result"
    }
   ],
   "source": [
    "#TEST CELL\n",
    "get_top_n(1)"
   ]
  },
  {
   "cell_type": "code",
   "execution_count": 35,
   "id": "42e15585",
   "metadata": {},
   "outputs": [],
   "source": [
    "test_arr = get_top_n_indexes(36)"
   ]
  },
  {
   "cell_type": "code",
   "execution_count": 45,
   "id": "9c9edd6d",
   "metadata": {},
   "outputs": [
    {
     "name": "stdout",
     "output_type": "stream",
     "text": [
      "Average ratings of the recommended films:\n",
      "[5.0, 4.0, 5.0, 4.0, 5.0, 4.0, 5.0, 5.0, 5.0, 5.0]\n",
      "Mean rating of top 10 movies is\n",
      "4.7\n"
     ]
    }
   ],
   "source": [
    "#Empty list for the mean ratings of each film in test user's top 10\n",
    "film_rating=[]\n",
    "\n",
    "for index in test_arr:\n",
    "    for movieId, rating in zip(ratings_df['movieId'], ratings_df['rating']):\n",
    "        #empty list for all the ratings of each movie in recommendation\n",
    "        rates=[]\n",
    "        if movieId == movie_ids[index]:\n",
    "            rates.append(rating)\n",
    "            av_rate = mean(rates)  #find mean rating of each movie\n",
    "    film_rating.append(av_rate)\n",
    "\n",
    "print('Average ratings of the recommended films:')\n",
    "print(film_rating)\n",
    "print('Mean rating of top 10 movies is')\n",
    "print(mean(film_rating))\n"
   ]
  },
  {
   "attachments": {},
   "cell_type": "markdown",
   "id": "e9e7e693",
   "metadata": {},
   "source": [
    "Now, the code needs to be extended to two users (if it can work for two users, we'll be able to do this over the entire dataset)."
   ]
  },
  {
   "cell_type": "code",
   "execution_count": 37,
   "id": "095f5471",
   "metadata": {},
   "outputs": [
    {
     "name": "stdout",
     "output_type": "stream",
     "text": [
      "The mean ratings for each user top 10\n",
      "[4.7, 3.85]\n",
      "The mean rating between the two users is\n",
      "4.275\n"
     ]
    }
   ],
   "source": [
    "#Test users will be users 36 and 50\n",
    "#Aim is to get a figure that measures the novelty of recommendations between both users\n",
    "\n",
    "Test_Users = [36,50]\n",
    "\n",
    "#Create empty list to put each test users mean ratings\n",
    "mean_ratings=[]\n",
    "\n",
    "for item in Test_Users:\n",
    "    topn_indexes = get_top_n_indexes(item)\n",
    "    film_rating=[]\n",
    "    for index in topn_indexes:\n",
    "        for movieId, rating in zip(ratings_df['movieId'], ratings_df['rating']):\n",
    "            #empty list for all the ratings of each movie in recommendation\n",
    "            rates=[]\n",
    "            if movieId == movie_ids[index]:\n",
    "                rates.append(rating)\n",
    "                av_rate = mean(rates)  #find mean rating of each movie\n",
    "        film_rating.append(av_rate)\n",
    "    topten_av = mean(film_rating)\n",
    "    mean_ratings.append(topten_av)\n",
    "\n",
    "print('The mean ratings for each user top 10')\n",
    "print(mean_ratings)\n",
    "print('The mean rating between the two users is')\n",
    "print(mean(mean_ratings))"
   ]
  },
  {
   "attachments": {},
   "cell_type": "markdown",
   "id": "13e5d9a1",
   "metadata": {},
   "source": [
    "Now extend code to entire dataset."
   ]
  },
  {
   "cell_type": "code",
   "execution_count": 133,
   "id": "ee66b693",
   "metadata": {},
   "outputs": [],
   "source": [
    "## THIS WAS TAKING TOO LONG ##\n",
    "## HAD TO SPLIT THE CODE FOR IT TO WORK FASTER ##\n",
    "\n",
    "#Create empty list to put each test users mean ratings\n",
    "mean_ratings=[]\n",
    "\n",
    "for item in range(num_users):\n",
    "    topn_indexes = get_top_n_indexes(item)\n",
    "    film_rating=[]\n",
    "    for index in topn_indexes:\n",
    "        for movieId, rating in zip(ratings_df['movieId'], ratings_df['rating']):\n",
    "            rates=[]\n",
    "            if movieId == movie_ids[index]:\n",
    "                rates.append(rating)\n",
    "                av_rate = mean(rates)\n",
    "        film_rating.append(av_rate)\n",
    "    topten_av = mean(film_rating)\n",
    "    mean_ratings.append(topten_av)"
   ]
  },
  {
   "cell_type": "code",
   "execution_count": 134,
   "id": "de412001",
   "metadata": {},
   "outputs": [
    {
     "name": "stdout",
     "output_type": "stream",
     "text": [
      "The nolvelty statistic of the whole dataset is 4.514\n"
     ]
    }
   ],
   "source": [
    "mean_rating_fulldf= mean(mean_ratings)\n",
    "novelty = round(mean_rating_fulldf,3)\n",
    "print('The nolvelty statistic of the whole dataset is', novelty)"
   ]
  },
  {
   "attachments": {},
   "cell_type": "markdown",
   "id": "ed378aee",
   "metadata": {},
   "source": [
    "## TASK 2: Top 30 Best Rated Films\n",
    "\n",
    "It would be interesting to see the 30 best rated films of this dataset. Unfortunately, the dataset is a bit biased - some films only have one rating which means there are some films with an _average_ rating of 5.\n",
    "\n",
    "To balance out the dataset, we can remove the films with only one rating, there by removing the heavily biased films."
   ]
  },
  {
   "attachments": {},
   "cell_type": "markdown",
   "id": "17c2ffef",
   "metadata": {},
   "source": [
    "### Step 1: Remove 1-rating films"
   ]
  },
  {
   "cell_type": "code",
   "execution_count": 174,
   "id": "356aa28e",
   "metadata": {},
   "outputs": [
    {
     "data": {
      "text/html": [
       "<div>\n",
       "<style scoped>\n",
       "    .dataframe tbody tr th:only-of-type {\n",
       "        vertical-align: middle;\n",
       "    }\n",
       "\n",
       "    .dataframe tbody tr th {\n",
       "        vertical-align: top;\n",
       "    }\n",
       "\n",
       "    .dataframe thead th {\n",
       "        text-align: right;\n",
       "    }\n",
       "</style>\n",
       "<table border=\"1\" class=\"dataframe\">\n",
       "  <thead>\n",
       "    <tr style=\"text-align: right;\">\n",
       "      <th></th>\n",
       "      <th>userId</th>\n",
       "      <th>movieId</th>\n",
       "      <th>rating</th>\n",
       "      <th>timestamp</th>\n",
       "      <th>movie_index</th>\n",
       "    </tr>\n",
       "  </thead>\n",
       "  <tbody>\n",
       "    <tr>\n",
       "      <th>0</th>\n",
       "      <td>1</td>\n",
       "      <td>31</td>\n",
       "      <td>2.5</td>\n",
       "      <td>1260759144</td>\n",
       "      <td>0</td>\n",
       "    </tr>\n",
       "    <tr>\n",
       "      <th>1</th>\n",
       "      <td>1</td>\n",
       "      <td>1029</td>\n",
       "      <td>3.0</td>\n",
       "      <td>1260759179</td>\n",
       "      <td>1</td>\n",
       "    </tr>\n",
       "    <tr>\n",
       "      <th>2</th>\n",
       "      <td>1</td>\n",
       "      <td>1061</td>\n",
       "      <td>3.0</td>\n",
       "      <td>1260759182</td>\n",
       "      <td>2</td>\n",
       "    </tr>\n",
       "    <tr>\n",
       "      <th>3</th>\n",
       "      <td>1</td>\n",
       "      <td>1129</td>\n",
       "      <td>2.0</td>\n",
       "      <td>1260759185</td>\n",
       "      <td>3</td>\n",
       "    </tr>\n",
       "    <tr>\n",
       "      <th>4</th>\n",
       "      <td>1</td>\n",
       "      <td>1172</td>\n",
       "      <td>4.0</td>\n",
       "      <td>1260759205</td>\n",
       "      <td>4</td>\n",
       "    </tr>\n",
       "  </tbody>\n",
       "</table>\n",
       "</div>"
      ],
      "text/plain": [
       "   userId  movieId  rating   timestamp  movie_index\n",
       "0       1       31     2.5  1260759144            0\n",
       "1       1     1029     3.0  1260759179            1\n",
       "2       1     1061     3.0  1260759182            2\n",
       "3       1     1129     2.0  1260759185            3\n",
       "4       1     1172     4.0  1260759205            4"
      ]
     },
     "execution_count": 174,
     "metadata": {},
     "output_type": "execute_result"
    }
   ],
   "source": [
    "# Add movie indexes to ratings_df to help with \n",
    "# finding the mean ratings of the movies\n",
    "\n",
    "ratings_df[\"movie_index\"] = [movie_id_to_index[i] for i in ratings_df[\"movieId\"]]\n",
    "ratings_df.head()"
   ]
  },
  {
   "cell_type": "code",
   "execution_count": 175,
   "id": "b68a14b8",
   "metadata": {},
   "outputs": [],
   "source": [
    "# Note that there are 9066 movies in the dataset\n",
    "# Resulting array shouldn't be longer than 9066\n",
    "\n",
    "movie_ratings = []\n",
    "\n",
    "for x, y in movie_id_to_index.items():\n",
    "    film_rates = []\n",
    "    for i, rating in zip(ratings_df['movie_index'], ratings_df['rating']):\n",
    "        if y == i:\n",
    "            film_rates.append(rating)\n",
    "            avg = mean(film_rates)\n",
    "    movie_ratings.append(avg)\n",
    "            "
   ]
  },
  {
   "cell_type": "code",
   "execution_count": 176,
   "id": "99816d7a",
   "metadata": {},
   "outputs": [
    {
     "data": {
      "text/plain": [
       "9066"
      ]
     },
     "execution_count": 176,
     "metadata": {},
     "output_type": "execute_result"
    }
   ],
   "source": [
    "# len(movie_ratings) \n",
    "# Has 9066 elements in array, for loop was successful"
   ]
  },
  {
   "cell_type": "code",
   "execution_count": 177,
   "id": "15977b3c",
   "metadata": {},
   "outputs": [],
   "source": [
    "# Create new dataframe with movieID, title and average rankings\n",
    "\n",
    "film_df = pd.DataFrame(movie_id_to_index.items(), columns=['MovieId', 'Movie_index'])\n",
    "film_df['av_rating'] = movie_ratings # add in mean ratings\n",
    "film_df = film_df.sort_values(by=['MovieId'], ascending=True) #Makes adding in titles easier\n",
    "film_df['title'] = movie_data['title']"
   ]
  },
  {
   "cell_type": "code",
   "execution_count": 180,
   "metadata": {},
   "outputs": [
    {
     "data": {
      "text/html": [
       "<div>\n",
       "<style scoped>\n",
       "    .dataframe tbody tr th:only-of-type {\n",
       "        vertical-align: middle;\n",
       "    }\n",
       "\n",
       "    .dataframe tbody tr th {\n",
       "        vertical-align: top;\n",
       "    }\n",
       "\n",
       "    .dataframe thead th {\n",
       "        text-align: right;\n",
       "    }\n",
       "</style>\n",
       "<table border=\"1\" class=\"dataframe\">\n",
       "  <thead>\n",
       "    <tr style=\"text-align: right;\">\n",
       "      <th></th>\n",
       "      <th>MovieId</th>\n",
       "      <th>Movie_index</th>\n",
       "      <th>av_rating</th>\n",
       "      <th>title</th>\n",
       "    </tr>\n",
       "  </thead>\n",
       "  <tbody>\n",
       "    <tr>\n",
       "      <th>417</th>\n",
       "      <td>1</td>\n",
       "      <td>417</td>\n",
       "      <td>3.872470</td>\n",
       "      <td>House of the Spirits, The (1993)</td>\n",
       "    </tr>\n",
       "    <tr>\n",
       "      <th>650</th>\n",
       "      <td>2</td>\n",
       "      <td>650</td>\n",
       "      <td>3.401869</td>\n",
       "      <td>Eraser (1996)</td>\n",
       "    </tr>\n",
       "    <tr>\n",
       "      <th>319</th>\n",
       "      <td>3</td>\n",
       "      <td>319</td>\n",
       "      <td>3.161017</td>\n",
       "      <td>Cobb (1994)</td>\n",
       "    </tr>\n",
       "    <tr>\n",
       "      <th>2084</th>\n",
       "      <td>4</td>\n",
       "      <td>2084</td>\n",
       "      <td>2.384615</td>\n",
       "      <td>Entrapment (1999)</td>\n",
       "    </tr>\n",
       "    <tr>\n",
       "      <th>651</th>\n",
       "      <td>5</td>\n",
       "      <td>651</td>\n",
       "      <td>3.267857</td>\n",
       "      <td>Gate of Heavenly Peace, The (1995)</td>\n",
       "    </tr>\n",
       "  </tbody>\n",
       "</table>\n",
       "</div>"
      ],
      "text/plain": [
       "      MovieId  Movie_index  av_rating                               title\n",
       "417         1          417   3.872470    House of the Spirits, The (1993)\n",
       "650         2          650   3.401869                       Eraser (1996)\n",
       "319         3          319   3.161017                         Cobb (1994)\n",
       "2084        4         2084   2.384615                   Entrapment (1999)\n",
       "651         5          651   3.267857  Gate of Heavenly Peace, The (1995)"
      ]
     },
     "execution_count": 180,
     "metadata": {},
     "output_type": "execute_result"
    }
   ],
   "source": [
    "# Check dataframe\n",
    "film_df.head()"
   ]
  },
  {
   "cell_type": "code",
   "execution_count": 181,
   "id": "debb57ae",
   "metadata": {},
   "outputs": [
    {
     "name": "stdout",
     "output_type": "stream",
     "text": [
      "Originally, there were 9066 movies in the dataset\n"
     ]
    }
   ],
   "source": [
    "original = len(film_df)\n",
    "print('Originally, there were', original, 'movies in the dataset')"
   ]
  },
  {
   "cell_type": "code",
   "execution_count": 182,
   "id": "864f9a24",
   "metadata": {},
   "outputs": [],
   "source": [
    "# Remove all the movies that have an average rating of 5\n",
    "\n",
    "film_df.drop(film_df.index[(film_df[\"av_rating\"] == 5)],axis=0,inplace=True)"
   ]
  },
  {
   "cell_type": "code",
   "execution_count": 183,
   "id": "5a6bd0c4",
   "metadata": {},
   "outputs": [
    {
     "name": "stdout",
     "output_type": "stream",
     "text": [
      "There are 315 movies with biased ratings\n",
      "After removal, there are 8751 acurately reviewed movies\n"
     ]
    }
   ],
   "source": [
    "new = len(film_df)\n",
    "print('There are', original - new, 'movies with biased ratings')\n",
    "print('After removal, there are', new, 'acurately reviewed movies')"
   ]
  },
  {
   "cell_type": "code",
   "execution_count": 184,
   "id": "91e2cbd5",
   "metadata": {},
   "outputs": [
    {
     "data": {
      "text/html": [
       "<div>\n",
       "<style scoped>\n",
       "    .dataframe tbody tr th:only-of-type {\n",
       "        vertical-align: middle;\n",
       "    }\n",
       "\n",
       "    .dataframe tbody tr th {\n",
       "        vertical-align: top;\n",
       "    }\n",
       "\n",
       "    .dataframe thead th {\n",
       "        text-align: right;\n",
       "    }\n",
       "</style>\n",
       "<table border=\"1\" class=\"dataframe\">\n",
       "  <thead>\n",
       "    <tr style=\"text-align: right;\">\n",
       "      <th></th>\n",
       "      <th>MovieId</th>\n",
       "      <th>Movie_index</th>\n",
       "      <th>av_rating</th>\n",
       "      <th>title</th>\n",
       "    </tr>\n",
       "  </thead>\n",
       "  <tbody>\n",
       "    <tr>\n",
       "      <th>4347</th>\n",
       "      <td>6273</td>\n",
       "      <td>4347</td>\n",
       "      <td>4.833333</td>\n",
       "      <td>So Fine (1981)</td>\n",
       "    </tr>\n",
       "    <tr>\n",
       "      <th>5591</th>\n",
       "      <td>5498</td>\n",
       "      <td>5591</td>\n",
       "      <td>4.750000</td>\n",
       "      <td>Hardcore (1979)</td>\n",
       "    </tr>\n",
       "    <tr>\n",
       "      <th>2031</th>\n",
       "      <td>7700</td>\n",
       "      <td>2031</td>\n",
       "      <td>4.750000</td>\n",
       "      <td>Avalanche (1978)</td>\n",
       "    </tr>\n",
       "    <tr>\n",
       "      <th>4141</th>\n",
       "      <td>2673</td>\n",
       "      <td>4141</td>\n",
       "      <td>4.750000</td>\n",
       "      <td>Sunshine State (2002)</td>\n",
       "    </tr>\n",
       "    <tr>\n",
       "      <th>3165</th>\n",
       "      <td>31435</td>\n",
       "      <td>3165</td>\n",
       "      <td>4.750000</td>\n",
       "      <td>Time Machine, The (1960)</td>\n",
       "    </tr>\n",
       "  </tbody>\n",
       "</table>\n",
       "</div>"
      ],
      "text/plain": [
       "      MovieId  Movie_index  av_rating                     title\n",
       "4347     6273         4347   4.833333            So Fine (1981)\n",
       "5591     5498         5591   4.750000           Hardcore (1979)\n",
       "2031     7700         2031   4.750000          Avalanche (1978)\n",
       "4141     2673         4141   4.750000     Sunshine State (2002)\n",
       "3165    31435         3165   4.750000  Time Machine, The (1960)"
      ]
     },
     "execution_count": 184,
     "metadata": {},
     "output_type": "execute_result"
    }
   ],
   "source": [
    "# With biased ratings removed, we can sort the dataframe\n",
    "# To give us the top 30 best rated films\n",
    "\n",
    "film_df = film_df.sort_values(by=['av_rating'], ascending=False)\n",
    "film_df.head()"
   ]
  },
  {
   "cell_type": "code",
   "execution_count": 188,
   "id": "9ce32f04",
   "metadata": {},
   "outputs": [
    {
     "data": {
      "text/html": [
       "<div>\n",
       "<style scoped>\n",
       "    .dataframe tbody tr th:only-of-type {\n",
       "        vertical-align: middle;\n",
       "    }\n",
       "\n",
       "    .dataframe tbody tr th {\n",
       "        vertical-align: top;\n",
       "    }\n",
       "\n",
       "    .dataframe thead th {\n",
       "        text-align: right;\n",
       "    }\n",
       "</style>\n",
       "<table border=\"1\" class=\"dataframe\">\n",
       "  <thead>\n",
       "    <tr style=\"text-align: right;\">\n",
       "      <th></th>\n",
       "      <th>MovieId</th>\n",
       "      <th>Movie_index</th>\n",
       "      <th>av_rating</th>\n",
       "      <th>title</th>\n",
       "    </tr>\n",
       "  </thead>\n",
       "  <tbody>\n",
       "    <tr>\n",
       "      <th>4347</th>\n",
       "      <td>6273</td>\n",
       "      <td>4347</td>\n",
       "      <td>4.833333</td>\n",
       "      <td>So Fine (1981)</td>\n",
       "    </tr>\n",
       "    <tr>\n",
       "      <th>5591</th>\n",
       "      <td>5498</td>\n",
       "      <td>5591</td>\n",
       "      <td>4.750000</td>\n",
       "      <td>Hardcore (1979)</td>\n",
       "    </tr>\n",
       "    <tr>\n",
       "      <th>2031</th>\n",
       "      <td>7700</td>\n",
       "      <td>2031</td>\n",
       "      <td>4.750000</td>\n",
       "      <td>Avalanche (1978)</td>\n",
       "    </tr>\n",
       "    <tr>\n",
       "      <th>4141</th>\n",
       "      <td>2673</td>\n",
       "      <td>4141</td>\n",
       "      <td>4.750000</td>\n",
       "      <td>Sunshine State (2002)</td>\n",
       "    </tr>\n",
       "    <tr>\n",
       "      <th>3165</th>\n",
       "      <td>31435</td>\n",
       "      <td>3165</td>\n",
       "      <td>4.750000</td>\n",
       "      <td>Time Machine, The (1960)</td>\n",
       "    </tr>\n",
       "    <tr>\n",
       "      <th>4162</th>\n",
       "      <td>8199</td>\n",
       "      <td>4162</td>\n",
       "      <td>4.750000</td>\n",
       "      <td>Kid Stays in the Picture, The (2002)</td>\n",
       "    </tr>\n",
       "    <tr>\n",
       "      <th>4547</th>\n",
       "      <td>6375</td>\n",
       "      <td>4547</td>\n",
       "      <td>4.750000</td>\n",
       "      <td>Basic (2003)</td>\n",
       "    </tr>\n",
       "    <tr>\n",
       "      <th>6525</th>\n",
       "      <td>4696</td>\n",
       "      <td>6525</td>\n",
       "      <td>4.750000</td>\n",
       "      <td>Everyone's Hero (2006)</td>\n",
       "    </tr>\n",
       "    <tr>\n",
       "      <th>3879</th>\n",
       "      <td>50641</td>\n",
       "      <td>3879</td>\n",
       "      <td>4.750000</td>\n",
       "      <td>Fritz the Cat (1972)</td>\n",
       "    </tr>\n",
       "    <tr>\n",
       "      <th>6023</th>\n",
       "      <td>117192</td>\n",
       "      <td>6023</td>\n",
       "      <td>4.750000</td>\n",
       "      <td>Beastmaster 2: Through the Portal of Time (1991)</td>\n",
       "    </tr>\n",
       "    <tr>\n",
       "      <th>5802</th>\n",
       "      <td>40412</td>\n",
       "      <td>5802</td>\n",
       "      <td>4.750000</td>\n",
       "      <td>Blue Thunder (1983)</td>\n",
       "    </tr>\n",
       "    <tr>\n",
       "      <th>7220</th>\n",
       "      <td>5238</td>\n",
       "      <td>7220</td>\n",
       "      <td>4.750000</td>\n",
       "      <td>Red Cliff Part II (Chi Bi Xia: Jue Zhan Tian X...</td>\n",
       "    </tr>\n",
       "    <tr>\n",
       "      <th>5686</th>\n",
       "      <td>4338</td>\n",
       "      <td>5686</td>\n",
       "      <td>4.750000</td>\n",
       "      <td>Letter, The (1940)</td>\n",
       "    </tr>\n",
       "    <tr>\n",
       "      <th>6204</th>\n",
       "      <td>4612</td>\n",
       "      <td>6204</td>\n",
       "      <td>4.750000</td>\n",
       "      <td>Girl in the Café, The (2005)</td>\n",
       "    </tr>\n",
       "    <tr>\n",
       "      <th>5248</th>\n",
       "      <td>98491</td>\n",
       "      <td>5248</td>\n",
       "      <td>4.750000</td>\n",
       "      <td>Cypher (2002)</td>\n",
       "    </tr>\n",
       "    <tr>\n",
       "      <th>5983</th>\n",
       "      <td>7459</td>\n",
       "      <td>5983</td>\n",
       "      <td>4.750000</td>\n",
       "      <td>Million Dollar Baby (2004)</td>\n",
       "    </tr>\n",
       "    <tr>\n",
       "      <th>4214</th>\n",
       "      <td>116</td>\n",
       "      <td>4214</td>\n",
       "      <td>4.750000</td>\n",
       "      <td>Hills Have Eyes, The (1977)</td>\n",
       "    </tr>\n",
       "    <tr>\n",
       "      <th>2408</th>\n",
       "      <td>6669</td>\n",
       "      <td>2408</td>\n",
       "      <td>4.750000</td>\n",
       "      <td>Dreaming of Joseph Lees (1999)</td>\n",
       "    </tr>\n",
       "    <tr>\n",
       "      <th>6203</th>\n",
       "      <td>4518</td>\n",
       "      <td>6203</td>\n",
       "      <td>4.750000</td>\n",
       "      <td>Grizzly Man (2005)</td>\n",
       "    </tr>\n",
       "    <tr>\n",
       "      <th>6295</th>\n",
       "      <td>67508</td>\n",
       "      <td>6295</td>\n",
       "      <td>4.750000</td>\n",
       "      <td>Dinner with Friends (2001)</td>\n",
       "    </tr>\n",
       "    <tr>\n",
       "      <th>2496</th>\n",
       "      <td>73587</td>\n",
       "      <td>2496</td>\n",
       "      <td>4.750000</td>\n",
       "      <td>Midnight Run (1988)</td>\n",
       "    </tr>\n",
       "    <tr>\n",
       "      <th>3462</th>\n",
       "      <td>86000</td>\n",
       "      <td>3462</td>\n",
       "      <td>4.750000</td>\n",
       "      <td>Baby Boy (2001)</td>\n",
       "    </tr>\n",
       "    <tr>\n",
       "      <th>3017</th>\n",
       "      <td>3357</td>\n",
       "      <td>3017</td>\n",
       "      <td>4.750000</td>\n",
       "      <td>The Golden Voyage of Sinbad (1973)</td>\n",
       "    </tr>\n",
       "    <tr>\n",
       "      <th>3630</th>\n",
       "      <td>3966</td>\n",
       "      <td>3630</td>\n",
       "      <td>4.750000</td>\n",
       "      <td>Major League (1989)</td>\n",
       "    </tr>\n",
       "    <tr>\n",
       "      <th>5698</th>\n",
       "      <td>72356</td>\n",
       "      <td>5698</td>\n",
       "      <td>4.750000</td>\n",
       "      <td>They Were Expendable (1945)</td>\n",
       "    </tr>\n",
       "    <tr>\n",
       "      <th>4218</th>\n",
       "      <td>178</td>\n",
       "      <td>4218</td>\n",
       "      <td>4.700000</td>\n",
       "      <td>Yearling, The (1946)</td>\n",
       "    </tr>\n",
       "    <tr>\n",
       "      <th>2026</th>\n",
       "      <td>7116</td>\n",
       "      <td>2026</td>\n",
       "      <td>4.700000</td>\n",
       "      <td>Planet of the Apes (1968)</td>\n",
       "    </tr>\n",
       "    <tr>\n",
       "      <th>6227</th>\n",
       "      <td>8938</td>\n",
       "      <td>6227</td>\n",
       "      <td>4.666667</td>\n",
       "      <td>200 Motels (1971)</td>\n",
       "    </tr>\n",
       "    <tr>\n",
       "      <th>4528</th>\n",
       "      <td>2330</td>\n",
       "      <td>4528</td>\n",
       "      <td>4.666667</td>\n",
       "      <td>Equus (1977)</td>\n",
       "    </tr>\n",
       "    <tr>\n",
       "      <th>6296</th>\n",
       "      <td>93040</td>\n",
       "      <td>6296</td>\n",
       "      <td>4.666667</td>\n",
       "      <td>Walk the Line (2005)</td>\n",
       "    </tr>\n",
       "  </tbody>\n",
       "</table>\n",
       "</div>"
      ],
      "text/plain": [
       "      MovieId  Movie_index  av_rating  \\\n",
       "4347     6273         4347   4.833333   \n",
       "5591     5498         5591   4.750000   \n",
       "2031     7700         2031   4.750000   \n",
       "4141     2673         4141   4.750000   \n",
       "3165    31435         3165   4.750000   \n",
       "4162     8199         4162   4.750000   \n",
       "4547     6375         4547   4.750000   \n",
       "6525     4696         6525   4.750000   \n",
       "3879    50641         3879   4.750000   \n",
       "6023   117192         6023   4.750000   \n",
       "5802    40412         5802   4.750000   \n",
       "7220     5238         7220   4.750000   \n",
       "5686     4338         5686   4.750000   \n",
       "6204     4612         6204   4.750000   \n",
       "5248    98491         5248   4.750000   \n",
       "5983     7459         5983   4.750000   \n",
       "4214      116         4214   4.750000   \n",
       "2408     6669         2408   4.750000   \n",
       "6203     4518         6203   4.750000   \n",
       "6295    67508         6295   4.750000   \n",
       "2496    73587         2496   4.750000   \n",
       "3462    86000         3462   4.750000   \n",
       "3017     3357         3017   4.750000   \n",
       "3630     3966         3630   4.750000   \n",
       "5698    72356         5698   4.750000   \n",
       "4218      178         4218   4.700000   \n",
       "2026     7116         2026   4.700000   \n",
       "6227     8938         6227   4.666667   \n",
       "4528     2330         4528   4.666667   \n",
       "6296    93040         6296   4.666667   \n",
       "\n",
       "                                                  title  \n",
       "4347                                     So Fine (1981)  \n",
       "5591                                    Hardcore (1979)  \n",
       "2031                                   Avalanche (1978)  \n",
       "4141                              Sunshine State (2002)  \n",
       "3165                           Time Machine, The (1960)  \n",
       "4162               Kid Stays in the Picture, The (2002)  \n",
       "4547                                       Basic (2003)  \n",
       "6525                             Everyone's Hero (2006)  \n",
       "3879                               Fritz the Cat (1972)  \n",
       "6023   Beastmaster 2: Through the Portal of Time (1991)  \n",
       "5802                                Blue Thunder (1983)  \n",
       "7220  Red Cliff Part II (Chi Bi Xia: Jue Zhan Tian X...  \n",
       "5686                                 Letter, The (1940)  \n",
       "6204                       Girl in the Café, The (2005)  \n",
       "5248                                      Cypher (2002)  \n",
       "5983                         Million Dollar Baby (2004)  \n",
       "4214                        Hills Have Eyes, The (1977)  \n",
       "2408                     Dreaming of Joseph Lees (1999)  \n",
       "6203                                 Grizzly Man (2005)  \n",
       "6295                         Dinner with Friends (2001)  \n",
       "2496                                Midnight Run (1988)  \n",
       "3462                                    Baby Boy (2001)  \n",
       "3017                 The Golden Voyage of Sinbad (1973)  \n",
       "3630                                Major League (1989)  \n",
       "5698                        They Were Expendable (1945)  \n",
       "4218                               Yearling, The (1946)  \n",
       "2026                          Planet of the Apes (1968)  \n",
       "6227                                  200 Motels (1971)  \n",
       "4528                                       Equus (1977)  \n",
       "6296                               Walk the Line (2005)  "
      ]
     },
     "execution_count": 188,
     "metadata": {},
     "output_type": "execute_result"
    }
   ],
   "source": [
    "# Put first 30 rows in newly order dataframe into new dataframe\n",
    "\n",
    "top30_films_df = film_df.iloc[:30]\n",
    "top30_films_df"
   ]
  },
  {
   "attachments": {},
   "cell_type": "markdown",
   "id": "4b10e89c",
   "metadata": {},
   "source": [
    "### Step 2: PCA and data plotting\n",
    "\n",
    "Now that we have the 30 best rated films from the dataset, we can use the movie embeddings to plot the films. However, the dimensionality will be reduced using PCA to plot the data on a graph. "
   ]
  },
  {
   "cell_type": "code",
   "execution_count": 191,
   "id": "c49ea6e1",
   "metadata": {},
   "outputs": [
    {
     "data": {
      "text/plain": [
       "array([[-0.643689  , -1.4262347 ,  1.5513606 , -1.3966458 ,  0.41420734,\n",
       "         1.0883741 , -1.1631967 ,  1.0430999 ,  1.6423582 ,  1.1914515 ,\n",
       "         0.58689773,  0.3531035 , -0.34539467, -0.99526113, -0.10749001,\n",
       "         0.23449814]], dtype=float32)"
      ]
     },
     "execution_count": 191,
     "metadata": {},
     "output_type": "execute_result"
    }
   ],
   "source": [
    "# Testing how to get a particualr movie's embeddings\n",
    "\n",
    "model.movie_embedding(torch.LongTensor([9065])).detach().numpy()"
   ]
  },
  {
   "cell_type": "code",
   "execution_count": 189,
   "id": "cd4cf9e1",
   "metadata": {},
   "outputs": [
    {
     "data": {
      "text/plain": [
       "array([4347, 5591, 2031, 4141, 3165, 4162, 4547, 6525, 3879, 6023, 5802,\n",
       "       7220, 5686, 6204, 5248, 5983, 4214, 2408, 6203, 6295, 2496, 3462,\n",
       "       3017, 3630, 5698, 4218, 2026, 6227, 4528, 6296], dtype=int64)"
      ]
     },
     "execution_count": 189,
     "metadata": {},
     "output_type": "execute_result"
    }
   ],
   "source": [
    "# Get the top movies' indexes into an array\n",
    "\n",
    "top30_indexes = top30_films_df['Movie_index'].to_numpy()\n",
    "top30_indexes"
   ]
  },
  {
   "cell_type": "code",
   "execution_count": 197,
   "id": "9833e140",
   "metadata": {},
   "outputs": [
    {
     "data": {
      "text/plain": [
       "[array([[-0.6314163 ,  2.3597052 , -1.7421211 ,  2.1610181 ,  1.8816898 ,\n",
       "         -0.08990077,  3.370883  , -3.6655815 , -0.01660052, -0.9664951 ,\n",
       "          0.04576395,  0.28664088,  0.6060768 ,  1.3054297 ,  1.0544823 ,\n",
       "          1.0606045 ]], dtype=float32),\n",
       " array([[ 0.03030334, -0.69994897, -0.76798517, -0.5561217 , -1.1364087 ,\n",
       "         -0.25634298, -1.1918194 , -0.2835152 , -0.15474245,  1.7580749 ,\n",
       "         -1.7415599 ,  0.46467432,  0.8630221 , -0.29429832, -0.97566146,\n",
       "         -0.15403387]], dtype=float32),\n",
       " array([[-0.77073485,  0.3737216 , -0.7062403 , -0.38944423, -0.68931776,\n",
       "          2.2864964 ,  0.09557462, -0.40004846,  1.0905628 , -0.3888272 ,\n",
       "          0.8585681 ,  0.8837716 ,  2.8488607 ,  0.93448746, -0.90478987,\n",
       "          1.2031305 ]], dtype=float32),\n",
       " array([[-1.1113237 ,  1.7189442 , -0.2591531 , -1.957746  ,  1.1349894 ,\n",
       "         -2.3356469 ,  0.4594822 , -2.7689993 ,  0.44762507,  0.39132738,\n",
       "         -0.26324138, -0.06357633,  0.12472913, -0.04347894, -0.10441901,\n",
       "         -1.7588291 ]], dtype=float32),\n",
       " array([[-1.2062422 ,  0.5133626 , -1.6910923 , -2.3027787 ,  4.2163644 ,\n",
       "          1.0684785 ,  3.6353176 ,  2.547533  , -0.38184178,  0.4183164 ,\n",
       "         -0.16506727, -0.15914218, -0.7831558 ,  0.641209  ,  3.099574  ,\n",
       "          1.5762557 ]], dtype=float32),\n",
       " array([[ 0.07468695, -0.9651255 , -0.8950973 ,  2.2023962 ,  0.31727707,\n",
       "         -0.26116833,  0.7305034 , -2.221201  , -0.6359528 ,  0.25631458,\n",
       "          1.2635134 ,  2.0531244 ,  1.8010077 ,  0.5182801 , -0.7133404 ,\n",
       "         -0.8154918 ]], dtype=float32),\n",
       " array([[-0.61805516,  0.7899096 ,  0.0537963 ,  1.6397611 ,  0.30640024,\n",
       "         -0.94581753,  1.2831244 ,  1.3469709 ,  1.8924134 , -0.57507026,\n",
       "          0.5252965 , -0.932424  ,  0.06664848, -0.8283292 , -1.4690958 ,\n",
       "         -0.02798728]], dtype=float32),\n",
       " array([[ 1.0085602 , -0.13866994,  2.0887597 , -1.7147896 , -0.06299343,\n",
       "         -0.09377185, -0.4514067 ,  0.79969287, -1.4470078 ,  1.8692366 ,\n",
       "          0.857477  , -1.1510725 , -0.753645  , -0.5930217 , -0.18100348,\n",
       "         -0.31212994]], dtype=float32),\n",
       " array([[-2.6257966 ,  0.6872992 , -0.08746494,  0.25569806,  2.4304163 ,\n",
       "          1.7418958 , -1.2456079 ,  1.7223177 , -0.46809775,  1.9777678 ,\n",
       "          0.68911207, -0.59816796, -0.4016676 ,  1.541996  , -1.4622307 ,\n",
       "         -0.1929299 ]], dtype=float32),\n",
       " array([[ 0.20287575,  0.8033325 ,  0.8825677 , -0.04460891,  0.10172755,\n",
       "         -0.96525   ,  0.53801465,  0.24863853, -0.6515237 ,  1.546956  ,\n",
       "          0.9967698 , -0.61762905, -1.5971576 , -0.14612472, -0.7197112 ,\n",
       "         -0.3189267 ]], dtype=float32),\n",
       " array([[-1.9182906 , -0.9051881 ,  0.7207914 ,  1.0589246 , -0.60090804,\n",
       "          0.67282593,  0.59666514, -0.07013713, -2.8247557 , -2.1812785 ,\n",
       "          0.2086765 ,  1.5447558 ,  0.3800545 , -0.08239239, -1.5522283 ,\n",
       "          2.2681084 ]], dtype=float32),\n",
       " array([[ 1.9765954 ,  2.4398737 , -1.0263656 ,  1.8545152 ,  2.1447046 ,\n",
       "         -1.0170866 , -0.86741996,  0.58743924, -0.9706641 ,  1.7073107 ,\n",
       "          0.6648148 ,  1.0496998 ,  0.03911353, -1.2859117 , -0.26870033,\n",
       "          1.6095454 ]], dtype=float32),\n",
       " array([[-0.43750003,  0.37896016,  0.11286688,  1.0733649 , -0.18533173,\n",
       "          0.5084205 , -0.2554737 ,  0.19093105,  0.11175032,  1.6743772 ,\n",
       "         -0.03147705, -1.4270719 , -0.39483112, -1.3844292 , -0.7127739 ,\n",
       "         -1.8011361 ]], dtype=float32),\n",
       " array([[ 0.21886602, -1.8554487 ,  1.4906013 ,  0.23343338, -0.05299228,\n",
       "          0.18676491,  1.7261324 ,  1.160014  , -0.5465055 , -2.0033674 ,\n",
       "         -0.7876435 ,  1.6787215 , -0.2449806 , -1.6439811 ,  1.6223733 ,\n",
       "         -0.05035726]], dtype=float32),\n",
       " array([[ 0.934202  , -0.3686833 , -0.56785744,  1.9324899 ,  0.5694418 ,\n",
       "         -1.3070081 ,  1.4160916 , -0.09154357, -1.0854053 ,  0.4740633 ,\n",
       "         -1.2814835 ,  0.16872793, -0.4536492 ,  0.01977871,  1.29821   ,\n",
       "          0.4340066 ]], dtype=float32),\n",
       " array([[-0.5875818 , -1.4908484 , -0.941772  , -1.7543359 , -0.6952259 ,\n",
       "          1.2809836 , -1.900396  ,  0.72517204, -0.34043178,  0.02582597,\n",
       "         -0.34051216,  1.1030588 , -0.8220589 ,  0.07210094, -1.0514565 ,\n",
       "         -0.85433435]], dtype=float32),\n",
       " array([[ 0.37393335,  0.6865198 ,  0.19819778, -0.30832183, -1.7770325 ,\n",
       "         -0.02931096, -0.6426203 ,  0.25852677, -0.13460603,  0.79616094,\n",
       "         -1.2206464 , -1.0182976 ,  0.3760353 ,  0.53258115, -0.62508875,\n",
       "          0.53444636]], dtype=float32),\n",
       " array([[-0.1953707 ,  1.9736344 , -2.0078623 ,  0.5433645 , -0.68491364,\n",
       "         -0.67452157,  0.21026215, -1.1850448 , -1.0277072 ,  0.05210676,\n",
       "         -0.99141705, -0.499316  ,  1.0449877 ,  1.2544223 , -0.65789634,\n",
       "         -0.31494147]], dtype=float32),\n",
       " array([[-0.63407815, -0.24559674,  1.6334108 ,  0.6595475 ,  0.3298175 ,\n",
       "          2.3742106 , -1.5709442 , -1.1125544 , -0.5990915 , -0.02054123,\n",
       "          0.64069974,  2.0698857 ,  0.9857813 ,  0.17946127, -1.2205166 ,\n",
       "         -1.6472623 ]], dtype=float32),\n",
       " array([[ 0.37702048,  2.3677838 ,  0.5703325 , -2.2967956 ,  0.8914202 ,\n",
       "         -1.0370315 , -1.423297  , -0.48192635,  0.23606367,  1.0925012 ,\n",
       "         -0.7946898 ,  0.6160734 ,  0.05627267, -0.81986254,  0.03857559,\n",
       "         -1.8111557 ]], dtype=float32),\n",
       " array([[-1.4338179 , -0.16445592, -0.6228749 , -0.03062476, -1.844147  ,\n",
       "         -0.8631316 ,  1.5600213 , -1.0321732 ,  0.7947363 , -0.776539  ,\n",
       "          0.85928696,  1.4954735 , -1.1748606 , -2.3596733 ,  1.8965334 ,\n",
       "          0.45055276]], dtype=float32),\n",
       " array([[-1.5342962e+00, -3.1401813e-01,  1.2177000e+00,  1.3612964e+00,\n",
       "         -1.6341683e+00,  2.0509531e+00, -1.8490084e+00, -2.1840613e+00,\n",
       "         -6.7285359e-02, -3.5532510e-01,  2.6383202e+00, -2.4624756e-03,\n",
       "          1.8249520e+00, -3.3790600e-02, -1.5957593e+00, -1.0706959e+00]],\n",
       "       dtype=float32),\n",
       " array([[-0.6280789 ,  0.04970438,  0.05016141,  0.01752761,  0.9335479 ,\n",
       "          0.3176984 , -0.2200122 ,  1.0574762 , -0.72114074, -0.9749997 ,\n",
       "         -1.1163411 ,  0.03791235, -0.9011845 ,  0.45931226,  0.02848455,\n",
       "          0.17978185]], dtype=float32),\n",
       " array([[ 1.1948055 , -1.2166495 , -1.0580853 , -0.27059424, -1.0102129 ,\n",
       "         -0.53562987,  0.38619858, -0.09394941, -1.1011695 , -0.6070144 ,\n",
       "         -0.15382023, -0.3159221 ,  0.96426046, -0.4695738 ,  1.2100923 ,\n",
       "          0.98710746]], dtype=float32),\n",
       " array([[ 0.48932713,  1.5788676 , -0.3269875 ,  0.04607635, -0.29641768,\n",
       "          0.3962608 , -0.01607795,  0.8536177 , -0.19309253, -1.3292943 ,\n",
       "          0.65198785,  1.3361751 , -1.288371  ,  0.02137781, -0.5251127 ,\n",
       "          2.2658808 ]], dtype=float32),\n",
       " array([[ 0.44251224,  0.2085682 ,  1.6276587 , -0.9610169 ,  1.4015642 ,\n",
       "         -1.289655  ,  1.5525702 , -1.7095892 ,  0.46720514, -3.0089145 ,\n",
       "          1.3853883 ,  0.8687551 , -0.5200413 , -2.9648716 , -0.7397501 ,\n",
       "         -0.72161293]], dtype=float32),\n",
       " array([[ 1.8351963 , -0.15446381,  0.17539744, -1.1920441 ,  2.8619647 ,\n",
       "          0.57109565,  1.8431023 ,  0.22059806,  0.2576156 ,  0.88288504,\n",
       "         -0.7827102 ,  0.66665417,  1.5978017 , -0.37977856, -2.0780392 ,\n",
       "          1.8443696 ]], dtype=float32),\n",
       " array([[-0.84732604,  1.4230213 , -0.17267142,  1.3634818 ,  2.7707515 ,\n",
       "          1.9428446 , -1.0954903 ,  0.1998728 , -2.3649197 ,  1.2863809 ,\n",
       "         -0.9163659 ,  1.0326701 ,  1.1131842 , -0.13119876, -0.65053046,\n",
       "          0.86094546]], dtype=float32),\n",
       " array([[-2.570262  ,  0.70407844, -2.248363  , -1.8211967 ,  0.9420119 ,\n",
       "         -1.9311341 , -1.1358441 , -0.09900667, -0.06315921, -0.31355205,\n",
       "          2.291023  ,  1.5424025 ,  2.8817136 , -1.3911536 , -1.6461889 ,\n",
       "          0.9577064 ]], dtype=float32),\n",
       " array([[-0.64742017,  0.6218375 ,  1.4483091 ,  0.20413095,  0.6601666 ,\n",
       "         -0.03202754,  0.2798142 , -0.98699224, -1.4681062 ,  0.05016641,\n",
       "         -1.0371375 ,  0.5103624 ,  0.41058102,  0.8345965 ,  0.33782297,\n",
       "         -1.4534191 ]], dtype=float32)]"
      ]
     },
     "execution_count": 197,
     "metadata": {},
     "output_type": "execute_result"
    }
   ],
   "source": [
    "# Use movie indexes to get corresponding movie embeddings\n",
    "\n",
    "# Create empty list\n",
    "top30_embeds = []\n",
    "\n",
    "# Use for loop to get embeddings into new array\n",
    "for i in top30_indexes:\n",
    "    j = model.movie_embedding(torch.LongTensor([i])).detach().numpy()\n",
    "    top30_embeds.append(j)\n",
    "\n",
    "top30_embeds # code was successful"
   ]
  },
  {
   "attachments": {},
   "cell_type": "markdown",
   "id": "4f80afb3",
   "metadata": {},
   "source": [
    "PCA will be used to reduce the dimensionality of the data."
   ]
  },
  {
   "cell_type": "code",
   "execution_count": 212,
   "id": "1834618d",
   "metadata": {},
   "outputs": [
    {
     "data": {
      "text/plain": [
       "(30, 1, 16)"
      ]
     },
     "execution_count": 212,
     "metadata": {},
     "output_type": "execute_result"
    }
   ],
   "source": [
    "# Convert list into numpy array\n",
    "\n",
    "top30_embeds_arr = np.array(top30_embeds)\n",
    "top30_embeds_arr.shape"
   ]
  },
  {
   "cell_type": "code",
   "execution_count": 215,
   "id": "47943d91",
   "metadata": {},
   "outputs": [],
   "source": [
    "# Reshape array to 2 dimensions so that PCA can work\n",
    "top30_embeds_4_pca = top30_embeds_arr.reshape(-1,16)\n",
    "\n",
    "N = 2 \n",
    "\n",
    "#Reduce dimensions\n",
    "pca = PCA(n_components=N)\n",
    "embeds_2d = pca.fit_transform(top30_embeds_4_pca)\n",
    "\n",
    "# Check array\n",
    "#embeds_2d"
   ]
  },
  {
   "cell_type": "code",
   "execution_count": 221,
   "metadata": {},
   "outputs": [
    {
     "data": {
      "text/plain": [
       "<Figure size 800x800 with 0 Axes>"
      ]
     },
     "metadata": {},
     "output_type": "display_data"
    },
    {
     "data": {
      "image/png": "[encoded data removed]",
      "text/plain": [
       "<Figure size 1500x1500 with 1 Axes>"
      ]
     },
     "metadata": {},
     "output_type": "display_data"
    }
   ],
   "source": [
    "# Plot the movies\n",
    "\n",
    "plt.figure(figsize=(8, 8))\n",
    "fig,ax = plt.subplots(figsize=(15,15))\n",
    "x = embeds_2d[:,0]\n",
    "y = embeds_2d[:,1]\n",
    "ax.plot(x,y,\"bx\")\n",
    "annotations = top30_films_df['title']\n",
    "for i, label in enumerate(annotations):\n",
    "    ax.annotate(label, (x[i], y[i]),alpha=1)\n",
    "plt.title('Top 30 Best Rated Movies')\n",
    "plt.show()"
   ]
  }
 ],
 "metadata": {
  "kernelspec": {
   "display_name": "Python 3 (ipykernel)",
   "language": "python",
   "name": "python3"
  },
  "language_info": {
   "codemirror_mode": {
    "name": "ipython",
    "version": 3
   },
   "file_extension": ".py",
   "mimetype": "text/x-python",
   "name": "python",
   "nbconvert_exporter": "python",
   "pygments_lexer": "ipython3",
   "version": "3.9.16"
  }
 },
 "nbformat": 4,
 "nbformat_minor": 5
}
